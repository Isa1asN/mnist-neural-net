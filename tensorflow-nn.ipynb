{
 "cells": [
  {
   "cell_type": "code",
   "execution_count": 32,
   "metadata": {},
   "outputs": [],
   "source": [
    "import pandas as pd\n",
    "import matplotlib.pyplot as plt\n",
    "import tensorflow as tf \n",
    "from tensorflow.keras.losses import SparseCategoricalCrossentropy\n",
    "from tensorflow.keras.layers import Dense\n",
    "from tensorflow.keras import Sequential\n"
   ]
  },
  {
   "cell_type": "code",
   "execution_count": 29,
   "metadata": {},
   "outputs": [
    {
     "name": "stdout",
     "output_type": "stream",
     "text": [
      "2.13.0\n"
     ]
    }
   ],
   "source": []
  },
  {
   "cell_type": "code",
   "execution_count": 26,
   "metadata": {},
   "outputs": [
    {
     "ename": "IndexError",
     "evalue": "string index out of range",
     "output_type": "error",
     "traceback": [
      "\u001b[1;31m---------------------------------------------------------------------------\u001b[0m",
      "\u001b[1;31mIndexError\u001b[0m                                Traceback (most recent call last)",
      "Cell \u001b[1;32mIn[26], line 1\u001b[0m\n\u001b[1;32m----> 1\u001b[0m s \u001b[39m=\u001b[39m Solution()\u001b[39m.\u001b[39;49mxor(\u001b[39m1\u001b[39;49m, \u001b[39m4\u001b[39;49m)\n\u001b[0;32m      2\u001b[0m s\n",
      "Cell \u001b[1;32mIn[24], line 14\u001b[0m, in \u001b[0;36mSolution.xor\u001b[1;34m(self, num1, num2)\u001b[0m\n\u001b[0;32m     12\u001b[0m re \u001b[39m=\u001b[39m \u001b[39m'\u001b[39m\u001b[39m'\u001b[39m\n\u001b[0;32m     13\u001b[0m \u001b[39mfor\u001b[39;00m i \u001b[39min\u001b[39;00m \u001b[39mrange\u001b[39m(\u001b[39mlen\u001b[39m(num2)\u001b[39m-\u001b[39m\u001b[39m1\u001b[39m):\n\u001b[1;32m---> 14\u001b[0m         re \u001b[39m+\u001b[39m\u001b[39m=\u001b[39m \u001b[39mstr\u001b[39m(\u001b[39mint\u001b[39m(num1[i] \u001b[39m==\u001b[39m num2[i]))\n\u001b[0;32m     15\u001b[0m \u001b[39mreturn\u001b[39;00m re\n",
      "\u001b[1;31mIndexError\u001b[0m: string index out of range"
     ]
    }
   ],
   "source": []
  },
  {
   "cell_type": "code",
   "execution_count": null,
   "metadata": {},
   "outputs": [],
   "source": []
  }
 ],
 "metadata": {
  "kernelspec": {
   "display_name": "Python 3",
   "language": "python",
   "name": "python3"
  },
  "language_info": {
   "codemirror_mode": {
    "name": "ipython",
    "version": 3
   },
   "file_extension": ".py",
   "mimetype": "text/x-python",
   "name": "python",
   "nbconvert_exporter": "python",
   "pygments_lexer": "ipython3",
   "version": "3.10.0"
  },
  "orig_nbformat": 4
 },
 "nbformat": 4,
 "nbformat_minor": 2
}
